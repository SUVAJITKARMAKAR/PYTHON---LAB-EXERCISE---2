{
 "cells": [
  {
   "cell_type": "markdown",
   "metadata": {},
   "source": [
    "[GITHUB REPOSITORY LINK : ] ()"
   ]
  },
  {
   "cell_type": "code",
   "execution_count": 3,
   "metadata": {},
   "outputs": [
    {
     "name": "stdout",
     "output_type": "stream",
     "text": [
      "['userID', 'userFollowers', 'userAddress', {'userDetails', 'userLocation'}, 'userFollowing', 'userDOB', 'userAge', 'userGender', 'userPage', 'userPageLikes', 'userFriends', 'userID', 'userPageID']\n"
     ]
    }
   ],
   "source": [
    "'''A PROGRAM TO CREATE A LIST WITH THE DOMAIN ATTRIBUTES, INSERT THE ELEMENTS USING append(), insert(), extend() AN TO ADD ANY ITERABLES TO THE LIST '''\n",
    "\n",
    "domain_names = [\"userID\", \"userFollowers\", \"userFollowing\", \"userDOB\"]\n",
    "\n",
    "# using the append() method to add individual elements \n",
    "domain_names.append(\"userAge\")\n",
    "domain_names.append(\"userGender\")\n",
    "\n",
    "# using the insert() method to insert the elements in a specific order \n",
    "domain_names.insert(2, \"userAddress\")\n",
    "\n",
    "# using the extent() method to form an iterable to multiple elements \n",
    "new_domain_name = [\"userPage\", \"userPageLikes\", \"userFriends\"]\n",
    "domain_names.extend(new_domain_name)\n",
    "\n",
    "# using the insert() to add a set at a specific position / index \n",
    "domain_set_names = {\"userDetails\", \"userLocation\"}\n",
    "domain_names.insert(3, domain_set_names)\n",
    "\n",
    "# using extent() to add elements form a dictionary's keys value pairs \n",
    "domain_dictionary_names = {\"userID\" : \"hello#4578120\", \"userPageID\" : \"15420\"}\n",
    "domain_names.extend(domain_dictionary_names.keys())\n",
    "\n",
    "print(domain_names)"
   ]
  },
  {
   "cell_type": "code",
   "execution_count": 5,
   "metadata": {},
   "outputs": [
    {
     "name": "stdout",
     "output_type": "stream",
     "text": [
      "[45, 45, 13, 78, 23]\n"
     ]
    }
   ],
   "source": [
    "# A PROGRAM TO SWAP THE FIRST AND LAST ELEMENTS IN A LIST\n",
    "list_details = [23,45,13,78,34]\n",
    "\n",
    "temp = list_details[0]\n",
    "list_details[0] = list_details[1]\n",
    "list_details[-1] = temp\n",
    "\n",
    "# printing the list \n",
    "print(list_details)"
   ]
  },
  {
   "cell_type": "code",
   "execution_count": 9,
   "metadata": {},
   "outputs": [
    {
     "name": "stdout",
     "output_type": "stream",
     "text": [
      "THE SUM OF THE DIGITS IN THE LIST IS : 193\n"
     ]
    }
   ],
   "source": [
    "\n",
    "# A PROGRAM TO FIND THE SUM OF THE DIGITS IN A LIST \n",
    "\n",
    "list_details = [23,45,13,78,34]\n",
    "initial_value = 0\n",
    "for x in list_details:\n",
    "    initial_value += x\n",
    "\n",
    "print(f\"THE SUM OF THE DIGITS IN THE LIST IS : {initial_value}\")"
   ]
  },
  {
   "cell_type": "code",
   "execution_count": 12,
   "metadata": {},
   "outputs": [
    {
     "name": "stdout",
     "output_type": "stream",
     "text": [
      "THE ORIGINAL LIST OF NUMBERS :  [23, 45, 13, 78, 34]\n",
      "THE SMALLEST ELEMENT IN THE LIST :  13\n"
     ]
    }
   ],
   "source": [
    "# A PROGRAM TO FIND THE SMALLEST ELEMENT IN THE LIST \n",
    "\n",
    "def smallest_one ( list_details ):\n",
    "    smallest = list_details[0]\n",
    "    for x in list_details:\n",
    "        if x < smallest:\n",
    "            smallest = x\n",
    "    return smallest\n",
    "\n",
    "\n",
    "list_details = [23,45,13,78,34]\n",
    "\n",
    "print(\"THE ORIGINAL LIST OF NUMBERS : \", list_details)\n",
    "smallest_element_in_list = smallest_one(list_details)\n",
    "print(\"THE SMALLEST ELEMENT IN THE LIST : \", smallest_element_in_list)"
   ]
  },
  {
   "cell_type": "code",
   "execution_count": 13,
   "metadata": {},
   "outputs": [
    {
     "name": "stdout",
     "output_type": "stream",
     "text": [
      "a 34\n",
      "c 67\n",
      "d 88\n",
      "e 12\n",
      "g 56\n"
     ]
    }
   ],
   "source": [
    "# A PROGRAM TO SORT THE DICTIONARIES IN ASCENDING ORDER BASED ON THE KEY VALUE PAIR\n",
    "\n",
    "def sort_dictionary ( dictionary ):\n",
    "    sorted_keys = sorted(dictionary.keys())\n",
    "    return sorted_keys\n",
    "\n",
    "\n",
    "dictionary_values = {'a' : 34, 'c' : 67, 'd' : 88, 'e' : 12, 'g' : 56}\n",
    "sorted_keys = sort_dictionary(dictionary_values)\n",
    "\n",
    "for key in sorted_keys:\n",
    "    print(key, dictionary_values[key])\n",
    "    "
   ]
  },
  {
   "cell_type": "code",
   "execution_count": 16,
   "metadata": {},
   "outputs": [
    {
     "name": "stdout",
     "output_type": "stream",
     "text": [
      "THE ORIGINAL DICTIONARY :  {'value_1': 45, 'value_2': 78, 'value_3': 90, 'value_4': 13}\n",
      "THE SUM OF ALL THE VALUES IN THE DICTIONARY IS :  226\n"
     ]
    }
   ],
   "source": [
    "# A PROGRAM TO FIND THE SUM OF THE VALUE IN THE DICTIONARY \n",
    "\n",
    "def sum_values_of_dictionary ( dictionary ):\n",
    "    initial_value = 0 \n",
    "    for x in dictionary.values():\n",
    "        initial_value += x\n",
    "    return initial_value\n",
    "\n",
    "\n",
    "dictionary_values = {\n",
    "    \"value_1\" : 45,\n",
    "    \"value_2\" : 78,\n",
    "    \"value_3\" : 90,\n",
    "    \"value_4\" : 13,\n",
    "}\n",
    "\n",
    "print(\"THE ORIGINAL DICTIONARY : \", dictionary_values)\n",
    "total_values = sum_values_of_dictionary(dictionary_values)\n",
    "print(\"THE SUM OF ALL THE VALUES IN THE DICTIONARY IS : \", total_values)"
   ]
  },
  {
   "cell_type": "code",
   "execution_count": 18,
   "metadata": {},
   "outputs": [
    {
     "name": "stdout",
     "output_type": "stream",
     "text": [
      "g : 50\n",
      "g : 40\n",
      "g : 12\n",
      "g : 8\n",
      "g : 6\n"
     ]
    }
   ],
   "source": [
    "# A PROGRAM TO PERFORM DESCENDING ORDER SORTING USING LAMDA FUNCTIONS\n",
    "\n",
    "dictionary_values = {\n",
    "    'pencil' : 6,\n",
    "    'eraser' : 8,\n",
    "    'pen' : 40,\n",
    "    'notebooks' : 12,\n",
    "    'files' : 50\n",
    "}\n",
    "\n",
    "# using the lambda function \n",
    "sorting_lambda_function = dict(sorted(dictionary_values.items(), key = lambda item : item[1], reverse = True))\n",
    "\n",
    "for x, value in sorting_lambda_function.items():\n",
    "    print(f'{key} : {value}')\n",
    "\n"
   ]
  }
 ],
 "metadata": {
  "kernelspec": {
   "display_name": "Python 3 (ipykernel)",
   "language": "python",
   "name": "python3"
  },
  "language_info": {
   "codemirror_mode": {
    "name": "ipython",
    "version": 3
   },
   "file_extension": ".py",
   "mimetype": "text/x-python",
   "name": "python",
   "nbconvert_exporter": "python",
   "pygments_lexer": "ipython3",
   "version": "3.11.2"
  },
  "orig_nbformat": 4
 },
 "nbformat": 4,
 "nbformat_minor": 2
}
